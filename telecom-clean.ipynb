{
 "cells": [
  {
   "attachments": {},
   "cell_type": "markdown",
   "metadata": {},
   "source": [
    "# Análise e Limpeza de Dados Aplicado a Telecomunicações"
   ]
  },
  {
   "cell_type": "markdown",
   "metadata": {},
   "source": []
  },
  {
   "cell_type": "markdown",
   "metadata": {},
   "source": [
    "## Instalando e Importando Pacotes."
   ]
  },
  {
   "cell_type": "code",
   "execution_count": 2,
   "metadata": {},
   "outputs": [
    {
     "name": "stdout",
     "output_type": "stream",
     "text": [
      "Note: you may need to restart the kernel to use updated packages.\n"
     ]
    }
   ],
   "source": [
    "# Instala o pacote watermark. Utilizado para obter informações sobre as versões de outros pacotes utilizados neste Jupyter Notebook.\n",
    "# https://pypi.org/project/watermark/\n",
    "%pip install -q watermark"
   ]
  },
  {
   "cell_type": "code",
   "execution_count": 3,
   "metadata": {},
   "outputs": [],
   "source": [
    "# Carrega o pacote watermark como um comando mágico no Jupyter Notebook.\n",
    "%load_ext watermark"
   ]
  },
  {
   "cell_type": "code",
   "execution_count": 4,
   "metadata": {},
   "outputs": [],
   "source": [
    "# Importa pacotes necessários para esse projeto.\n",
    "\n",
    "# Manipulação de dados.\n",
    "import pandas as pd\n",
    "import numpy as np\n",
    "\n",
    "# Manipulação do sistema operacional.\n",
    "import sys, os\n",
    "\n",
    "#Manipulação matemática.\n",
    "import math"
   ]
  },
  {
   "cell_type": "code",
   "execution_count": 9,
   "metadata": {},
   "outputs": [],
   "source": [
    "# Adiciona cleaning_strategies à lista de caminhos de pesquisa de módulos.\n",
    "sys.path.append(os.path.abspath('cleaning_strategies'))\n",
    "\n",
    "# Importa as estratégias de limpeza necessárias para esse projeto.\n",
    "from strategy_one import *\n",
    "from strategy_two import *\n",
    "from strategy_three import *"
   ]
  },
  {
   "cell_type": "code",
   "execution_count": 10,
   "metadata": {},
   "outputs": [
    {
     "name": "stdout",
     "output_type": "stream",
     "text": [
      "Author: Samuel G. Ribeiro\n",
      "\n",
      "Github username: sgribeiro\n",
      "\n",
      "Python implementation: CPython\n",
      "Python version       : 3.9.7\n",
      "IPython version      : 7.29.0\n",
      "\n",
      "pandas: 1.3.4\n",
      "numpy : 1.20.3\n",
      "sys   : 3.9.7 (default, Sep 16 2021, 16:59:28) [MSC v.1916 64 bit (AMD64)]\n",
      "\n",
      "Watermark: 2.3.1\n",
      "\n"
     ]
    }
   ],
   "source": [
    "# Versão do Python e de todos os pacotes importados neste projeto.\n",
    "%watermark -a \"Samuel G. Ribeiro\" -gu \"sgribeiro\" --python --iversions --watermark"
   ]
  },
  {
   "cell_type": "markdown",
   "metadata": {},
   "source": [
    "## Análise Exploratória de Dados"
   ]
  },
  {
   "cell_type": "markdown",
   "metadata": {},
   "source": [
    "### Carregando o conjunto de dados"
   ]
  },
  {
   "cell_type": "code",
   "execution_count": 11,
   "metadata": {},
   "outputs": [],
   "source": [
    "#Carrega o dataset como um Dataframe do pandas.\n",
    "df = pd.read_csv('dataset/dataset.csv', na_values = [\"n/a\", \"na\", \"undefined\"])"
   ]
  },
  {
   "cell_type": "markdown",
   "metadata": {},
   "source": [
    "### Informações Gerais"
   ]
  },
  {
   "cell_type": "code",
   "execution_count": 12,
   "metadata": {},
   "outputs": [
    {
     "name": "stdout",
     "output_type": "stream",
     "text": [
      "Linhas: 150001\n",
      "Colunas: 55\n"
     ]
    }
   ],
   "source": [
    "# Quantidade de linhas e colunas do conjunto de dados.\n",
    "rows, columns = df.shape\n",
    "print(f\"Linhas: {rows}\\nColunas: {columns}\")"
   ]
  },
  {
   "cell_type": "code",
   "execution_count": null,
   "metadata": {},
   "outputs": [],
   "source": []
  }
 ],
 "metadata": {
  "kernelspec": {
   "display_name": "base",
   "language": "python",
   "name": "python3"
  },
  "language_info": {
   "codemirror_mode": {
    "name": "ipython",
    "version": 3
   },
   "file_extension": ".py",
   "mimetype": "text/x-python",
   "name": "python",
   "nbconvert_exporter": "python",
   "pygments_lexer": "ipython3",
   "version": "3.9.7"
  },
  "orig_nbformat": 4
 },
 "nbformat": 4,
 "nbformat_minor": 2
}
